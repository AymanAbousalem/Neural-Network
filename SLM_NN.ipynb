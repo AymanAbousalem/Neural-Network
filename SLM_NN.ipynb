{
 "cells": [
  {
   "cell_type": "code",
   "execution_count": 1,
   "metadata": {},
   "outputs": [],
   "source": [
    "import numpy as np\n",
    "import scipy.special\n",
    "import matplotlib.pyplot as plt\n",
    "import imageio.v3\n",
    "import glob"
   ]
  },
  {
   "cell_type": "code",
   "execution_count": 2,
   "metadata": {},
   "outputs": [],
   "source": [
    "# neural network class definition\n",
    "class neuralNetwork:\n",
    "    def __init__(self, inputnodes, hiddennodes, outputnodes, learningrate):\n",
    "        self.inodes = inputnodes\n",
    "        self.hnodes = hiddennodes\n",
    "        self.onodes = outputnodes\n",
    "        \n",
    "        self.wih = np.random.normal(0.0, pow(self.inodes, -0.5), (self.hnodes, self.inodes))\n",
    "        self.who = np.random.normal(0.0, pow(self.hnodes, -0.5), (self.onodes, self.hnodes))\n",
    "\n",
    "        self.lr = learningrate\n",
    "        self.activation_function = lambda x: scipy.special.expit(x)\n",
    "\n",
    "    def train(self, inputs_list, targets_list):\n",
    "        inputs = np.array(inputs_list, ndmin=2).T\n",
    "        targets = np.array(targets_list, ndmin=2).T\n",
    "        \n",
    "        hidden_inputs = np.dot(self.wih, inputs)\n",
    "        hidden_outputs = self.activation_function(hidden_inputs)\n",
    "        \n",
    "        final_inputs = np.dot(self.who, hidden_outputs)\n",
    "        final_outputs = self.activation_function(final_inputs)\n",
    "        \n",
    "        output_errors = targets - final_outputs\n",
    "        hidden_errors = np.dot(self.who.T, output_errors)\n",
    "        \n",
    "        self.who += self.lr * np.dot((output_errors * final_outputs * (1.0 - final_outputs)), np.transpose(hidden_outputs))\n",
    "        self.wih += self.lr * np.dot((hidden_errors * hidden_outputs * (1.0 - hidden_outputs)), np.transpose(inputs))\n",
    "\n",
    "    def query(self, inputs_list):\n",
    "        inputs = np.array(inputs_list, ndmin=2).T\n",
    "        hidden_inputs = np.dot(self.wih, inputs)\n",
    "        hidden_outputs = self.activation_function(hidden_inputs)\n",
    "        final_inputs = np.dot(self.who, hidden_outputs)\n",
    "        final_outputs = self.activation_function(final_inputs)\n",
    "        \n",
    "        return final_outputs"
   ]
  },
  {
   "cell_type": "code",
   "execution_count": 3,
   "metadata": {},
   "outputs": [],
   "source": [
    "# number of input, hidden and output nodes\n",
    "input_nodes = 1024 * 768\n",
    "hidden_nodes = 2000\n",
    "output_nodes = 4  # Four quadrants\n",
    "\n",
    "# learning rate\n",
    "learning_rate = 0.1"
   ]
  },
  {
   "cell_type": "code",
   "execution_count": 4,
   "metadata": {},
   "outputs": [],
   "source": [
    "# create instance of neural network\n",
    "n = neuralNetwork(input_nodes, hidden_nodes, output_nodes, learning_rate)\n",
    "\n",
    "# prepare training data for the SLM scenario\n",
    "def create_quadrant_data(img, quadrant):\n",
    "    img_array = imageio.v3.imread(img, mode='L')\n",
    "    img_data = img_array.flatten() \n",
    "    img_data = (img_data / 255.0 * 0.99) + 0.01\n",
    "\n",
    "    targets = np.zeros(output_nodes) + 0.01\n",
    "    targets[quadrant] = 0.99\n",
    "\n",
    "    return img_data, targets"
   ]
  },
  {
   "cell_type": "code",
   "execution_count": 5,
   "metadata": {},
   "outputs": [],
   "source": [
    "# simulate training data\n",
    "training_data = []\n",
    "quadrant_dirs = ['quadrant_0', 'quadrant_1', 'quadrant_2', 'quadrant_3']\n",
    "\n",
    "for quadrant in range(4):\n",
    "    img_files = glob.glob('training_images/{quadrant_dirs[quadrant]}/*.png')\n",
    "    for img_file in img_files:\n",
    "        training_data.append(create_quadrant_data(img_file, quadrant))\n",
    "\n",
    "# train the neural network\n",
    "epochs = 2500\n",
    "for e in range(epochs):\n",
    "    for inputs, targets in training_data:\n",
    "        n.train(inputs, targets)\n"
   ]
  },
  {
   "cell_type": "code",
   "execution_count": 6,
   "metadata": {},
   "outputs": [
    {
     "name": "stdout",
     "output_type": "stream",
     "text": [
      "loading ... test_images/test_image.png\n"
     ]
    }
   ],
   "source": [
    "# test the neural network with a new image\n",
    "print(\"loading ... test_images/test_image.png\")\n",
    "test_img_array = imageio.v3.imread('resized_images\\quadrant_2_image_2_training_resized.png', mode='L')\n",
    "\n",
    "# ensure the image is 1024x768\n",
    "if test_img_array.shape != (768, 1024):\n",
    "    raise ValueError(\"Input image must be 1024x768 pixels\")\n",
    "\n",
    "# flatten and preprocess the test image\n",
    "test_img_data = test_img_array.flatten() \n",
    "test_img_data = (test_img_data / 255.0 * 0.99) + 0.01"
   ]
  },
  {
   "cell_type": "code",
   "execution_count": 7,
   "metadata": {},
   "outputs": [
    {
     "name": "stdout",
     "output_type": "stream",
     "text": [
      "[[0.41792306]\n",
      " [0.34776028]\n",
      " [0.43875044]\n",
      " [0.45059618]]\n",
      "network says quadrant  3\n"
     ]
    },
    {
     "data": {
      "image/png": "[encoded data removed]",
      "text/plain": [
       "<Figure size 640x480 with 1 Axes>"
      ]
     },
     "metadata": {},
     "output_type": "display_data"
    }
   ],
   "source": [
    "\n",
    "# plot image\n",
    "plt.imshow(test_img_array, cmap='Greys_r', interpolation='None')\n",
    "\n",
    "# query the network\n",
    "outputs = n.query(test_img_data)\n",
    "print(outputs)\n",
    "\n",
    "# the index of the highest value corresponds to the dark quadrant\n",
    "quadrant_label = np.argmax(outputs)\n",
    "print(\"network says quadrant \", quadrant_label)\n",
    "plt.title(f\"NN Output: Quadrant {quadrant_label}\")\n",
    "plt.show()"
   ]
  }
 ],
 "metadata": {
  "kernelspec": {
   "display_name": "base",
   "language": "python",
   "name": "python3"
  },
  "language_info": {
   "codemirror_mode": {
    "name": "ipython",
    "version": 3
   },
   "file_extension": ".py",
   "mimetype": "text/x-python",
   "name": "python",
   "nbconvert_exporter": "python",
   "pygments_lexer": "ipython3",
   "version": "3.11.5"
  }
 },
 "nbformat": 4,
 "nbformat_minor": 2
}
